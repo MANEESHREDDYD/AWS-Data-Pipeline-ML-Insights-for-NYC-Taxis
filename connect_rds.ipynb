{
 "cells": [
  {
   "cell_type": "code",
   "execution_count": null,
   "metadata": {},
   "outputs": [
    {
     "name": "stdout",
     "output_type": "stream",
     "text": [
      "Defaulting to user installation because normal site-packages is not writeable\n",
      "Collecting awswrangler\n",
      "  Downloading awswrangler-3.11.0-py3-none-any.whl.metadata (17 kB)\n",
      "Requirement already satisfied: boto3<2.0.0,>=1.20.32 in c:\\users\\md\\appdata\\roaming\\python\\python312\\site-packages (from awswrangler) (1.37.23)\n",
      "Requirement already satisfied: botocore<2.0.0,>=1.23.32 in c:\\users\\md\\appdata\\roaming\\python\\python312\\site-packages (from awswrangler) (1.37.23)\n",
      "Requirement already satisfied: numpy<3.0,>=1.26 in c:\\programdata\\anaconda3\\lib\\site-packages (from awswrangler) (1.26.4)\n",
      "Requirement already satisfied: packaging<25.0,>=21.1 in c:\\programdata\\anaconda3\\lib\\site-packages (from awswrangler) (24.1)\n",
      "Requirement already satisfied: pandas<3.0.0,>=1.2.0 in c:\\users\\md\\appdata\\roaming\\python\\python312\\site-packages (from awswrangler) (2.1.4)\n",
      "Requirement already satisfied: pyarrow<19.0.0,>=8.0.0 in c:\\programdata\\anaconda3\\lib\\site-packages (from awswrangler) (16.1.0)\n",
      "Requirement already satisfied: setuptools in c:\\programdata\\anaconda3\\lib\\site-packages (from awswrangler) (75.1.0)\n",
      "Requirement already satisfied: typing-extensions<5.0.0,>=4.4.0 in c:\\programdata\\anaconda3\\lib\\site-packages (from awswrangler) (4.11.0)\n",
      "Requirement already satisfied: jmespath<2.0.0,>=0.7.1 in c:\\programdata\\anaconda3\\lib\\site-packages (from boto3<2.0.0,>=1.20.32->awswrangler) (1.0.1)\n",
      "Requirement already satisfied: s3transfer<0.12.0,>=0.11.0 in c:\\users\\md\\appdata\\roaming\\python\\python312\\site-packages (from boto3<2.0.0,>=1.20.32->awswrangler) (0.11.3)\n",
      "Requirement already satisfied: python-dateutil<3.0.0,>=2.1 in c:\\programdata\\anaconda3\\lib\\site-packages (from botocore<2.0.0,>=1.23.32->awswrangler) (2.9.0.post0)\n",
      "Requirement already satisfied: urllib3!=2.2.0,<3,>=1.25.4 in c:\\programdata\\anaconda3\\lib\\site-packages (from botocore<2.0.0,>=1.23.32->awswrangler) (2.2.3)\n",
      "Requirement already satisfied: pytz>=2020.1 in c:\\programdata\\anaconda3\\lib\\site-packages (from pandas<3.0.0,>=1.2.0->awswrangler) (2024.1)\n",
      "Requirement already satisfied: tzdata>=2022.1 in c:\\programdata\\anaconda3\\lib\\site-packages (from pandas<3.0.0,>=1.2.0->awswrangler) (2023.3)\n",
      "Requirement already satisfied: six>=1.5 in c:\\programdata\\anaconda3\\lib\\site-packages (from python-dateutil<3.0.0,>=2.1->botocore<2.0.0,>=1.23.32->awswrangler) (1.16.0)\n",
      "Downloading awswrangler-3.11.0-py3-none-any.whl (379 kB)\n",
      "Installing collected packages: awswrangler\n",
      "Successfully installed awswrangler-3.11.0\n"
     ]
    }
   ],
   "source": [
    "#!pip install awswrangler"
   ]
  },
  {
   "cell_type": "code",
   "execution_count": 12,
   "metadata": {},
   "outputs": [
    {
     "name": "stdout",
     "output_type": "stream",
     "text": [
      "<class 'pandas.core.frame.DataFrame'>\n",
      "RangeIndex: 4394088 entries, 0 to 4394087\n",
      "Data columns (total 5 columns):\n",
      " #   Column              Dtype \n",
      "---  ------              ----- \n",
      " 0   pickup_hour         string\n",
      " 1   pickup_location_id  Int16 \n",
      " 2   rides               Int16 \n",
      " 3   year                string\n",
      " 4   month               string\n",
      "dtypes: Int16(2), string(3)\n",
      "memory usage: 125.7 MB\n"
     ]
    }
   ],
   "source": [
    "import awswrangler as wr\n",
    "\n",
    "query = \"\"\"\n",
    "SELECT *\n",
    "FROM glue_transformed\n",
    "\"\"\"\n",
    "\n",
    "df = wr.athena.read_sql_query(query, database=\"nyc_taxi_transformeddb\")\n",
    "df.info()"
   ]
  },
  {
   "cell_type": "code",
   "execution_count": null,
   "metadata": {},
   "outputs": [
    {
     "name": "stdout",
     "output_type": "stream",
     "text": [
      "Defaulting to user installation because normal site-packages is not writeable\n",
      "Collecting psycopg2-binary\n",
      "  Downloading psycopg2_binary-2.9.10-cp312-cp312-win_amd64.whl.metadata (5.0 kB)\n",
      "Downloading psycopg2_binary-2.9.10-cp312-cp312-win_amd64.whl (1.2 MB)\n",
      "   ---------------------------------------- 0.0/1.2 MB ? eta -:--:--\n",
      "   ---------------------------------------- 1.2/1.2 MB 7.2 MB/s eta 0:00:00\n",
      "Installing collected packages: psycopg2-binary\n",
      "Successfully installed psycopg2-binary-2.9.10\n"
     ]
    }
   ],
   "source": [
    "#!pip install psycopg2-binary"
   ]
  },
  {
   "cell_type": "code",
   "execution_count": 27,
   "metadata": {},
   "outputs": [],
   "source": [
    "from sqlalchemy import create_engine\n",
    "\n",
    "# Your RDS connection info\n",
    "host = 'database-3.cudeiagum7dk.us-east-1.rds.amazonaws.com'\n",
    "port = 5432\n",
    "db = 'postgres'\n",
    "user = 'postgres'\n",
    "password = 'password'\n",
    "\n",
    "engine = create_engine(f'postgresql+psycopg2://{user}:{password}@{host}:{port}/{db}')\n"
   ]
  },
  {
   "cell_type": "code",
   "execution_count": 28,
   "metadata": {},
   "outputs": [
    {
     "data": {
      "text/plain": [
       "88"
      ]
     },
     "execution_count": 28,
     "metadata": {},
     "output_type": "execute_result"
    }
   ],
   "source": [
    "df['year'] = df['year'].astype(int)\n",
    "df['month'] = df['month'].astype(int)\n",
    "df.to_sql('transformed_data', engine, if_exists='replace', index=False)"
   ]
  },
  {
   "cell_type": "code",
   "execution_count": 30,
   "metadata": {},
   "outputs": [
    {
     "name": "stdout",
     "output_type": "stream",
     "text": [
      "<class 'pandas.core.frame.DataFrame'>\n",
      "RangeIndex: 26352 entries, 0 to 26351\n",
      "Data columns (total 7 columns):\n",
      " #   Column               Non-Null Count  Dtype \n",
      "---  ------               --------------  ----- \n",
      " 0   prediction_datetime  26352 non-null  string\n",
      " 1   predicted_rides      26352 non-null  Int64 \n",
      " 2   location_id          26352 non-null  string\n",
      " 3   year                 26352 non-null  string\n",
      " 4   month                26352 non-null  string\n",
      " 5   day                  26352 non-null  string\n",
      " 6   hour                 26352 non-null  string\n",
      "dtypes: Int64(1), string(6)\n",
      "memory usage: 1.4 MB\n"
     ]
    }
   ],
   "source": [
    "query_predictions = \"\"\"\n",
    "select * from model_lightgbm\n",
    "\"\"\"\n",
    "df_predictions = wr.athena.read_sql_query(query_predictions, database=\"taxi_predictions\")\n",
    "df_predictions.info()"
   ]
  },
  {
   "cell_type": "code",
   "execution_count": 31,
   "metadata": {},
   "outputs": [
    {
     "data": {
      "text/html": [
       "<div>\n",
       "<style scoped>\n",
       "    .dataframe tbody tr th:only-of-type {\n",
       "        vertical-align: middle;\n",
       "    }\n",
       "\n",
       "    .dataframe tbody tr th {\n",
       "        vertical-align: top;\n",
       "    }\n",
       "\n",
       "    .dataframe thead th {\n",
       "        text-align: right;\n",
       "    }\n",
       "</style>\n",
       "<table border=\"1\" class=\"dataframe\">\n",
       "  <thead>\n",
       "    <tr style=\"text-align: right;\">\n",
       "      <th></th>\n",
       "      <th>prediction_datetime</th>\n",
       "      <th>predicted_rides</th>\n",
       "      <th>location_id</th>\n",
       "      <th>year</th>\n",
       "      <th>month</th>\n",
       "      <th>day</th>\n",
       "      <th>hour</th>\n",
       "    </tr>\n",
       "  </thead>\n",
       "  <tbody>\n",
       "    <tr>\n",
       "      <th>0</th>\n",
       "      <td>2024-02-09 04:00:00</td>\n",
       "      <td>2</td>\n",
       "      <td>43</td>\n",
       "      <td>2024</td>\n",
       "      <td>02</td>\n",
       "      <td>09</td>\n",
       "      <td>4</td>\n",
       "    </tr>\n",
       "    <tr>\n",
       "      <th>1</th>\n",
       "      <td>2024-01-29 11:00:00</td>\n",
       "      <td>86</td>\n",
       "      <td>43</td>\n",
       "      <td>2024</td>\n",
       "      <td>01</td>\n",
       "      <td>29</td>\n",
       "      <td>11</td>\n",
       "    </tr>\n",
       "    <tr>\n",
       "      <th>2</th>\n",
       "      <td>2024-02-10 01:00:00</td>\n",
       "      <td>4</td>\n",
       "      <td>43</td>\n",
       "      <td>2024</td>\n",
       "      <td>02</td>\n",
       "      <td>10</td>\n",
       "      <td>1</td>\n",
       "    </tr>\n",
       "    <tr>\n",
       "      <th>3</th>\n",
       "      <td>2024-01-13 02:00:00</td>\n",
       "      <td>4</td>\n",
       "      <td>43</td>\n",
       "      <td>2024</td>\n",
       "      <td>01</td>\n",
       "      <td>13</td>\n",
       "      <td>2</td>\n",
       "    </tr>\n",
       "    <tr>\n",
       "      <th>4</th>\n",
       "      <td>2024-01-16 07:00:00</td>\n",
       "      <td>39</td>\n",
       "      <td>43</td>\n",
       "      <td>2024</td>\n",
       "      <td>01</td>\n",
       "      <td>16</td>\n",
       "      <td>7</td>\n",
       "    </tr>\n",
       "  </tbody>\n",
       "</table>\n",
       "</div>"
      ],
      "text/plain": [
       "   prediction_datetime  predicted_rides location_id  year month day hour\n",
       "0  2024-02-09 04:00:00                2          43  2024    02  09    4\n",
       "1  2024-01-29 11:00:00               86          43  2024    01  29   11\n",
       "2  2024-02-10 01:00:00                4          43  2024    02  10    1\n",
       "3  2024-01-13 02:00:00                4          43  2024    01  13    2\n",
       "4  2024-01-16 07:00:00               39          43  2024    01  16    7"
      ]
     },
     "execution_count": 31,
     "metadata": {},
     "output_type": "execute_result"
    }
   ],
   "source": [
    "df_predictions.head()"
   ]
  },
  {
   "cell_type": "code",
   "execution_count": 32,
   "metadata": {},
   "outputs": [
    {
     "data": {
      "text/plain": [
       "352"
      ]
     },
     "execution_count": 32,
     "metadata": {},
     "output_type": "execute_result"
    }
   ],
   "source": [
    "import pandas as pd\n",
    "df_predictions['year'] = df_predictions['year'].astype(int)\n",
    "df_predictions['month'] = df_predictions['month'].astype(int)\n",
    "df_predictions['day'] = df_predictions['day'].astype(int)\n",
    "df_predictions['hour'] = df_predictions['hour'].astype(int)\n",
    "df_predictions['predicted_rides'] = df_predictions['predicted_rides'].astype(int)\n",
    "df_predictions['month'] = df_predictions['month'].astype(int)\n",
    "df_predictions['location_id'] = df_predictions['location_id'].astype(int)\n",
    "df_predictions.loc[df_predictions['prediction_datetime'].str.len() == 10, 'prediction_datetime'] += \" 00:00:00\"\n",
    "\n",
    "# Now parse\n",
    "df_predictions['prediction_datetime'] = pd.to_datetime(df_predictions['prediction_datetime'], errors='coerce')\n",
    "df_predictions.to_sql('predictions_by_lightgbm', engine, if_exists='replace', index=False)"
   ]
  },
  {
   "cell_type": "code",
   "execution_count": 33,
   "metadata": {},
   "outputs": [
    {
     "name": "stdout",
     "output_type": "stream",
     "text": [
      "<class 'pandas.core.frame.DataFrame'>\n",
      "RangeIndex: 26352 entries, 0 to 26351\n",
      "Data columns (total 7 columns):\n",
      " #   Column               Non-Null Count  Dtype \n",
      "---  ------               --------------  ----- \n",
      " 0   prediction_datetime  26352 non-null  string\n",
      " 1   predicted_rides      26352 non-null  Int64 \n",
      " 2   location_id          26352 non-null  string\n",
      " 3   year                 26352 non-null  string\n",
      " 4   month                26352 non-null  string\n",
      " 5   day                  26352 non-null  string\n",
      " 6   hour                 26352 non-null  string\n",
      "dtypes: Int64(1), string(6)\n",
      "memory usage: 1.4 MB\n"
     ]
    }
   ],
   "source": [
    "query_predictions_1 = \"\"\"\n",
    "select * from model_lightgbm_feature_engineering\n",
    "\"\"\"\n",
    "df_predictions_1 = wr.athena.read_sql_query(query_predictions_1, database=\"taxi_predictions\")\n",
    "df_predictions_1.info()"
   ]
  },
  {
   "cell_type": "code",
   "execution_count": 34,
   "metadata": {},
   "outputs": [
    {
     "data": {
      "text/plain": [
       "352"
      ]
     },
     "execution_count": 34,
     "metadata": {},
     "output_type": "execute_result"
    }
   ],
   "source": [
    "df_predictions_1['year'] = df_predictions_1['year'].astype(int)\n",
    "df_predictions_1['month'] = df_predictions_1['month'].astype(int)\n",
    "df_predictions_1['day'] = df_predictions_1['day'].astype(int)\n",
    "df_predictions_1['hour'] = df_predictions_1['hour'].astype(int)\n",
    "df_predictions_1['predicted_rides'] = df_predictions_1['predicted_rides'].astype(int)\n",
    "df_predictions_1['month'] = df_predictions_1['month'].astype(int)\n",
    "df_predictions_1['location_id'] = df_predictions_1['location_id'].astype(int)\n",
    "df_predictions_1.loc[df_predictions_1['prediction_datetime'].str.len() == 10, 'prediction_datetime'] += \" 00:00:00\"\n",
    "\n",
    "# Now parse\n",
    "df_predictions_1['prediction_datetime'] = pd.to_datetime(df_predictions_1['prediction_datetime'], errors='coerce')\n",
    "df_predictions_1.to_sql('predictions_by_lightgbm_with_feature_engineering', engine, if_exists='replace', index=False)"
   ]
  }
 ],
 "metadata": {
  "kernelspec": {
   "display_name": "base",
   "language": "python",
   "name": "python3"
  },
  "language_info": {
   "codemirror_mode": {
    "name": "ipython",
    "version": 3
   },
   "file_extension": ".py",
   "mimetype": "text/x-python",
   "name": "python",
   "nbconvert_exporter": "python",
   "pygments_lexer": "ipython3",
   "version": "3.12.7"
  }
 },
 "nbformat": 4,
 "nbformat_minor": 2
}
